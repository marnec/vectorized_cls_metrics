{
 "cells": [
  {
   "cell_type": "code",
   "execution_count": 1,
   "metadata": {
    "jupyter": {
     "source_hidden": true
    }
   },
   "outputs": [],
   "source": [
    "import numpy as np\n",
    "from vectorized_metrics import confmat\n",
    "from sklearn.metrics import confusion_matrix\n",
    "import pandas as pd\n",
    "import seaborn as sns\n",
    "from ipywidgets import interact, SelectionSlider\n",
    "import matplotlib.pyplot as plt\n",
    "import scipy"
   ]
  },
  {
   "cell_type": "code",
   "execution_count": 2,
   "metadata": {
    "jupyter": {
     "source_hidden": true
    }
   },
   "outputs": [],
   "source": [
    "def binary_clf_curve(y_true, y_score):\n",
    "    pos_label = 1.0\n",
    "    y_true = (y_true == pos_label)\n",
    "\n",
    "    desc_score_indices = np.argsort(y_score, kind=\"mergesort\")[::-1]\n",
    "    y_score = y_score[desc_score_indices]\n",
    "    y_true = y_true[desc_score_indices]\n",
    "\n",
    "    distinct_value_indices = np.where(np.diff(y_score))[0]\n",
    "    threshold_idxs = np.r_[distinct_value_indices, y_true.size - 1]\n",
    "\n",
    "    tps = np.cumsum(y_true, dtype=np.float64)[threshold_idxs]\n",
    "    fps = 1 + threshold_idxs - tps\n",
    "    thr = y_score[threshold_idxs]\n",
    "\n",
    "    return fps, tps, thr"
   ]
  },
  {
   "cell_type": "code",
   "execution_count": 3,
   "metadata": {
    "jupyter": {
     "source_hidden": true
    }
   },
   "outputs": [],
   "source": [
    "ytrue = np.array([0, 0, 0, 1, 1, 1, 0, 1, 1, 1])\n",
    "yscore = np.array([0.523, 0.957, 0.489, 0.244, 0.311, 0.093, 0.21 , 0.065, 0.552, 0.556])"
   ]
  },
  {
   "cell_type": "code",
   "execution_count": 4,
   "metadata": {
    "collapsed": true,
    "jupyter": {
     "outputs_hidden": true,
     "source_hidden": true
    }
   },
   "outputs": [
    {
     "name": "stdout",
     "output_type": "stream",
     "text": [
      "CPU times: user 1.16 ms, sys: 0 ns, total: 1.16 ms\n",
      "Wall time: 1.55 ms\n"
     ]
    }
   ],
   "source": [
    "%time a = confmat(*binary_clf_curve(ytrue, yscore)[:-1])"
   ]
  },
  {
   "cell_type": "code",
   "execution_count": 5,
   "metadata": {
    "collapsed": true,
    "jupyter": {
     "outputs_hidden": true,
     "source_hidden": true
    }
   },
   "outputs": [
    {
     "name": "stdout",
     "output_type": "stream",
     "text": [
      "CPU times: user 11.7 ms, sys: 0 ns, total: 11.7 ms\n",
      "Wall time: 11.5 ms\n"
     ]
    }
   ],
   "source": [
    "%%time \n",
    "for thr in sorted(yscore):\n",
    "    confusion_matrix(ytrue, yscore>thr)"
   ]
  },
  {
   "cell_type": "code",
   "execution_count": 6,
   "metadata": {
    "jupyter": {
     "source_hidden": true
    }
   },
   "outputs": [],
   "source": [
    "n = np.array([0.898, 0.910, 1.13, 1.39])\n",
    "f = np.array([14, 80 ,800, 52*1000])\n",
    "l = np.array([10**x for x in range(1, len(n)+1)], dtype=float)"
   ]
  },
  {
   "cell_type": "code",
   "execution_count": 7,
   "metadata": {
    "collapsed": true,
    "jupyter": {
     "outputs_hidden": true,
     "source_hidden": true
    }
   },
   "outputs": [
    {
     "data": {
      "image/png": "[encoded data removed]",
      "text/plain": [
       "<Figure size 432x288 with 1 Axes>"
      ]
     },
     "metadata": {
      "needs_background": "light"
     },
     "output_type": "display_data"
    }
   ],
   "source": [
    "def func(x, a, b):\n",
    "    return a*np.exp(b*x)\n",
    "\n",
    "plt.plot(func(np.arange(20), *scipy.optimize.curve_fit(func,  l/1000,  n/1000)[0]), label='numpy')\n",
    "plt.plot(func(np.arange(20), *scipy.optimize.curve_fit(func,  l/1000,  f/1000)[0]), label='for-loop')\n",
    "plt.legend();\n",
    "plt.savefig('results.png', dpi=300)"
   ]
  },
  {
   "cell_type": "code",
   "execution_count": 11,
   "metadata": {
    "jupyter": {
     "source_hidden": true
    }
   },
   "outputs": [
    {
     "data": {
      "application/vnd.jupyter.widget-view+json": {
       "model_id": "bf4cfa154c794ae3a7f5dff670c14cf1",
       "version_major": 2,
       "version_minor": 0
      },
      "text/plain": [
       "interactive(children=(SelectionSlider(description='thr', options=(0.065, 0.093, 0.21, 0.244, 0.311, 0.489, 0.5…"
      ]
     },
     "metadata": {},
     "output_type": "display_data"
    }
   ],
   "source": [
    "def plot_score(thr):\n",
    "    fig = plt.figure(constrained_layout=True, figsize=(8, 6))\n",
    "#     fig, axes = plt.subplots(1, 2, )\n",
    "    gs = fig.add_gridspec(3, 2, height_ratios=[3, 1, 2], width_ratios=[2, 1], hspace=1)\n",
    "    ax = fig.add_subplot(gs[0, :])\n",
    "    ax2 = fig.add_subplot(gs[1, 1])\n",
    "    ax3 = fig.add_subplot(gs[1, 0])\n",
    "    ax4 = fig.add_subplot(gs[2, :])\n",
    "    ax.plot(ytrue, linewidth=0, marker='o', c='C2')\n",
    "    ax.plot(yscore, marker='o')\n",
    "    ax.axhline(thr, c=\"C1\", linestyle='--')\n",
    "    ax.set_xticks([])\n",
    "    cm = confusion_matrix(ytrue, yscore>=thr)\n",
    "    df = np.array([['TN=', 'FP='], ['FN=', 'TP=']]) + pd.DataFrame(cm).astype(str)\n",
    "    t = pd.plotting.table(ax2, df, loc='center')\n",
    "    t.set_fontsize(34)\n",
    "    t.scale(1, 3.66)\n",
    "    ax2.axis(\"off\")\n",
    "    ax3.axis('off')\n",
    "    ax3.text(0, 0.8, 'true: {}'.format(''.join(ytrue.astype(int).astype(str))), family='monospace', fontsize=20)\n",
    "    ax3.text(0, 0.2, 'pred: {}'.format(''.join((yscore>=thr).astype(int).astype(str))), family='monospace', fontsize=20)\n",
    "    tn, _, _, tp = cm.ravel()\n",
    "    ax4.text(0.5, 0.5, r'$ACC=\\frac{TP+TN}{TP+TN+FP+FN}=\\frac{%d+%d}{%d+%d+%d+%d}=%.2f$' % (tp, tn, *cm.ravel(), (tp+tn)/(sum(cm.ravel()))),\n",
    "            horizontalalignment='center', fontsize=20)\n",
    "    ax4.axis(\"off\")\n",
    "\n",
    "interact(plot_score, thr=SelectionSlider(options=sorted(yscore)));"
   ]
  }
 ],
 "metadata": {
  "kernelspec": {
   "display_name": "vectorized_cls_metrics",
   "language": "python",
   "name": "vectorized_cls_metrics"
  },
  "language_info": {
   "codemirror_mode": {
    "name": "ipython",
    "version": 3
   },
   "file_extension": ".py",
   "mimetype": "text/x-python",
   "name": "python",
   "nbconvert_exporter": "python",
   "pygments_lexer": "ipython3",
   "version": "3.6.9"
  }
 },
 "nbformat": 4,
 "nbformat_minor": 4
}
